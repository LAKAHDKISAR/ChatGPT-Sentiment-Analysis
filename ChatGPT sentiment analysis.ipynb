{
 "cells": [
  {
   "cell_type": "markdown",
   "id": "8b926086-6ce2-4163-af84-e8f56351158a",
   "metadata": {},
   "source": [
    "### About Dataset"
   ]
  },
  {
   "cell_type": "markdown",
   "id": "5cee70d4-4dd4-4ae9-ab95-c6e47d95ad57",
   "metadata": {},
   "source": [
    "ChatGPT has garnered significant attention in the tech world. This dataset consists of tweets collected over a month that discuss various aspects of ChatGPT. These tweets were subjected to sentiment analysis using Natural Language Processing (NLP) techniques.\n",
    "\n",
    "The dataset captures the public sentiment expressed towards ChatGPT during the specified period. Sentiment analysis categorizes each tweet into sentiment labels such as 'good', 'bad', or 'neutral', providing insights into how people perceive and discuss ChatGPT on social media.\n",
    "\n",
    "This dataset enables analysis of trends, attitudes, and opinions surrounding ChatGPT, offering valuable insights into public sentiment and engagement with this prominent technology in natural language processing.\n",
    "\n"
   ]
  },
  {
   "cell_type": "markdown",
   "id": "d37aab4c-9b4d-4e2b-89b2-bf56901e1c3d",
   "metadata": {},
   "source": [
    "* Unnamed: 0: Likely an index or serial number for each tweet or data entry.\n",
    "* tweets: The raw text of each tweet discussing ChatGPT.\n",
    "* labels: The sentiment labels assigned to each tweet after sentiment analysis (e.g., 'good', 'bad', 'neutral')."
   ]
  },
  {
   "cell_type": "markdown",
   "id": "55b2bd81-ad74-4a2b-8436-43a63db98c81",
   "metadata": {},
   "source": [
    "https://www.kaggle.com/datasets/charunisa/chatgpt-sentiment-analysis/data"
   ]
  },
  {
   "cell_type": "markdown",
   "id": "6fabf15b-0b73-4e7a-a6a1-c4ba93feeeff",
   "metadata": {},
   "source": [
    "### Objective\n",
    "Analyze sentiment from ChatGPT-related tweets to understand user perceptions."
   ]
  },
  {
   "cell_type": "code",
   "execution_count": 27,
   "id": "4c202766-00c1-4e8f-bea3-244c29746825",
   "metadata": {},
   "outputs": [],
   "source": [
    "import pandas as pd            \n",
    "import numpy as np              \n",
    "import matplotlib.pyplot as plt\n",
    "%matplotlib inline\n",
    "import seaborn as sns"
   ]
  },
  {
   "cell_type": "code",
   "execution_count": 2,
   "id": "b8b5e848-a931-425d-9f6b-826fd6eae078",
   "metadata": {},
   "outputs": [],
   "source": [
    "df= pd.read_csv('file.csv')"
   ]
  },
  {
   "cell_type": "code",
   "execution_count": 3,
   "id": "b33d1e48-5552-4e8b-9531-4454a6f9c7d2",
   "metadata": {},
   "outputs": [
    {
     "name": "stdout",
     "output_type": "stream",
     "text": [
      "<class 'pandas.core.frame.DataFrame'>\n",
      "RangeIndex: 219294 entries, 0 to 219293\n",
      "Data columns (total 3 columns):\n",
      " #   Column      Non-Null Count   Dtype \n",
      "---  ------      --------------   ----- \n",
      " 0   Unnamed: 0  219294 non-null  int64 \n",
      " 1   tweets      219294 non-null  object\n",
      " 2   labels      219294 non-null  object\n",
      "dtypes: int64(1), object(2)\n",
      "memory usage: 5.0+ MB\n"
     ]
    }
   ],
   "source": [
    "df.info()"
   ]
  },
  {
   "cell_type": "code",
   "execution_count": 4,
   "id": "b3b2ca67-9d6b-4ff3-a89a-b41774c81950",
   "metadata": {},
   "outputs": [
    {
     "data": {
      "text/plain": [
       "(219294, 3)"
      ]
     },
     "execution_count": 4,
     "metadata": {},
     "output_type": "execute_result"
    }
   ],
   "source": [
    "df.shape"
   ]
  },
  {
   "cell_type": "code",
   "execution_count": 5,
   "id": "57d3ffa1-94e2-4b66-9ac1-79949c3104f4",
   "metadata": {},
   "outputs": [
    {
     "name": "stdout",
     "output_type": "stream",
     "text": [
      "0\n"
     ]
    }
   ],
   "source": [
    "print(df.isnull().values.sum())"
   ]
  },
  {
   "cell_type": "code",
   "execution_count": 6,
   "id": "99327f10-7656-44f8-906b-2b8054d8cf0b",
   "metadata": {},
   "outputs": [
    {
     "name": "stdout",
     "output_type": "stream",
     "text": [
      "          Unnamed: 0\n",
      "count  219294.000000\n",
      "mean   109646.500000\n",
      "std     63304.869303\n",
      "min         0.000000\n",
      "25%     54823.250000\n",
      "50%    109646.500000\n",
      "75%    164469.750000\n",
      "max    219293.000000\n"
     ]
    }
   ],
   "source": [
    "print(df.describe())"
   ]
  },
  {
   "cell_type": "code",
   "execution_count": 7,
   "id": "16efc637-7743-4e7e-b75a-a925677f8b86",
   "metadata": {},
   "outputs": [
    {
     "data": {
      "text/html": [
       "<div>\n",
       "<style scoped>\n",
       "    .dataframe tbody tr th:only-of-type {\n",
       "        vertical-align: middle;\n",
       "    }\n",
       "\n",
       "    .dataframe tbody tr th {\n",
       "        vertical-align: top;\n",
       "    }\n",
       "\n",
       "    .dataframe thead th {\n",
       "        text-align: right;\n",
       "    }\n",
       "</style>\n",
       "<table border=\"1\" class=\"dataframe\">\n",
       "  <thead>\n",
       "    <tr style=\"text-align: right;\">\n",
       "      <th></th>\n",
       "      <th>Unnamed: 0</th>\n",
       "      <th>tweets</th>\n",
       "      <th>labels</th>\n",
       "    </tr>\n",
       "  </thead>\n",
       "  <tbody>\n",
       "    <tr>\n",
       "      <th>0</th>\n",
       "      <td>0</td>\n",
       "      <td>ChatGPT: Optimizing Language Models for Dialog...</td>\n",
       "      <td>neutral</td>\n",
       "    </tr>\n",
       "    <tr>\n",
       "      <th>1</th>\n",
       "      <td>1</td>\n",
       "      <td>Try talking with ChatGPT, our new AI system wh...</td>\n",
       "      <td>good</td>\n",
       "    </tr>\n",
       "    <tr>\n",
       "      <th>2</th>\n",
       "      <td>2</td>\n",
       "      <td>ChatGPT: Optimizing Language Models for Dialog...</td>\n",
       "      <td>neutral</td>\n",
       "    </tr>\n",
       "    <tr>\n",
       "      <th>3</th>\n",
       "      <td>3</td>\n",
       "      <td>THRILLED to share that ChatGPT, our new model ...</td>\n",
       "      <td>good</td>\n",
       "    </tr>\n",
       "    <tr>\n",
       "      <th>4</th>\n",
       "      <td>4</td>\n",
       "      <td>As of 2 minutes ago, @OpenAI released their ne...</td>\n",
       "      <td>bad</td>\n",
       "    </tr>\n",
       "  </tbody>\n",
       "</table>\n",
       "</div>"
      ],
      "text/plain": [
       "   Unnamed: 0                                             tweets   labels\n",
       "0           0  ChatGPT: Optimizing Language Models for Dialog...  neutral\n",
       "1           1  Try talking with ChatGPT, our new AI system wh...     good\n",
       "2           2  ChatGPT: Optimizing Language Models for Dialog...  neutral\n",
       "3           3  THRILLED to share that ChatGPT, our new model ...     good\n",
       "4           4  As of 2 minutes ago, @OpenAI released their ne...      bad"
      ]
     },
     "execution_count": 7,
     "metadata": {},
     "output_type": "execute_result"
    }
   ],
   "source": [
    "df.head()"
   ]
  },
  {
   "cell_type": "code",
   "execution_count": 16,
   "id": "2f89e301-ee79-4afd-9a8a-7d3ab99162d9",
   "metadata": {},
   "outputs": [
    {
     "data": {
      "text/html": [
       "<div>\n",
       "<style scoped>\n",
       "    .dataframe tbody tr th:only-of-type {\n",
       "        vertical-align: middle;\n",
       "    }\n",
       "\n",
       "    .dataframe tbody tr th {\n",
       "        vertical-align: top;\n",
       "    }\n",
       "\n",
       "    .dataframe thead th {\n",
       "        text-align: right;\n",
       "    }\n",
       "</style>\n",
       "<table border=\"1\" class=\"dataframe\">\n",
       "  <thead>\n",
       "    <tr style=\"text-align: right;\">\n",
       "      <th></th>\n",
       "      <th>Unnamed: 0</th>\n",
       "      <th>tweets</th>\n",
       "      <th>labels</th>\n",
       "    </tr>\n",
       "  </thead>\n",
       "  <tbody>\n",
       "    <tr>\n",
       "      <th>219289</th>\n",
       "      <td>219289</td>\n",
       "      <td>Other Software Projects Are Now Trying to Repl...</td>\n",
       "      <td>bad</td>\n",
       "    </tr>\n",
       "    <tr>\n",
       "      <th>219290</th>\n",
       "      <td>219290</td>\n",
       "      <td>I asked #ChatGPT to write a #NYE Joke for SEOs...</td>\n",
       "      <td>good</td>\n",
       "    </tr>\n",
       "    <tr>\n",
       "      <th>219291</th>\n",
       "      <td>219291</td>\n",
       "      <td>chatgpt is being disassembled until it can onl...</td>\n",
       "      <td>bad</td>\n",
       "    </tr>\n",
       "    <tr>\n",
       "      <th>219292</th>\n",
       "      <td>219292</td>\n",
       "      <td>2023 predictions by #chatGPT. Nothing really s...</td>\n",
       "      <td>bad</td>\n",
       "    </tr>\n",
       "    <tr>\n",
       "      <th>219293</th>\n",
       "      <td>219293</td>\n",
       "      <td>From ChatGPT, neat stuff https://t.co/qjjUF2Z2m0</td>\n",
       "      <td>neutral</td>\n",
       "    </tr>\n",
       "  </tbody>\n",
       "</table>\n",
       "</div>"
      ],
      "text/plain": [
       "        Unnamed: 0                                             tweets   labels\n",
       "219289      219289  Other Software Projects Are Now Trying to Repl...      bad\n",
       "219290      219290  I asked #ChatGPT to write a #NYE Joke for SEOs...     good\n",
       "219291      219291  chatgpt is being disassembled until it can onl...      bad\n",
       "219292      219292  2023 predictions by #chatGPT. Nothing really s...      bad\n",
       "219293      219293   From ChatGPT, neat stuff https://t.co/qjjUF2Z2m0  neutral"
      ]
     },
     "execution_count": 16,
     "metadata": {},
     "output_type": "execute_result"
    }
   ],
   "source": [
    "df.tail()"
   ]
  },
  {
   "cell_type": "code",
   "execution_count": 8,
   "id": "8b0b13a4-3719-4d8a-b9d3-47882fad72a0",
   "metadata": {},
   "outputs": [
    {
     "data": {
      "text/plain": [
       "Index(['Unnamed: 0', 'tweets', 'labels'], dtype='object')"
      ]
     },
     "execution_count": 8,
     "metadata": {},
     "output_type": "execute_result"
    }
   ],
   "source": [
    "df.columns  "
   ]
  },
  {
   "cell_type": "markdown",
   "id": "0c385a86-d6e7-4c00-b191-6e5de21018ad",
   "metadata": {},
   "source": [
    "### EDA"
   ]
  },
  {
   "cell_type": "code",
   "execution_count": 10,
   "id": "1d86cb4c-df43-45c3-86b9-20b21390c80a",
   "metadata": {},
   "outputs": [
    {
     "data": {
      "image/png": "[encoded data removed]",
      "text/plain": [
       "<Figure size 640x480 with 1 Axes>"
      ]
     },
     "metadata": {},
     "output_type": "display_data"
    }
   ],
   "source": [
    "sns.countplot(x='labels',data=df)\n",
    "plt.title('Sentiment Distribution')\n",
    "plt.show()"
   ]
  },
  {
   "cell_type": "code",
   "execution_count": 11,
   "id": "6c5ef441-5196-4eb5-b244-13e4525e8e4a",
   "metadata": {},
   "outputs": [
    {
     "data": {
      "text/plain": [
       "bad        107796\n",
       "good        56011\n",
       "neutral     55487\n",
       "Name: labels, dtype: int64"
      ]
     },
     "execution_count": 11,
     "metadata": {},
     "output_type": "execute_result"
    }
   ],
   "source": [
    "df.labels.value_counts()"
   ]
  },
  {
   "cell_type": "code",
   "execution_count": 14,
   "id": "85c8de9a-95ff-4228-b2d6-caa419ead068",
   "metadata": {},
   "outputs": [
    {
     "data": {
      "image/png": "[encoded data removed]",
      "text/plain": [
       "<Figure size 640x480 with 1 Axes>"
      ]
     },
     "metadata": {},
     "output_type": "display_data"
    }
   ],
   "source": [
    "sentiment_count = df['labels'].value_counts()\n",
    "plt.pie(sentiment_count, labels=sentiment_count.index, autopct='%1.1f%%')\n",
    "plt.title('Sentiment Distribution')\n",
    "plt.show()"
   ]
  },
  {
   "cell_type": "markdown",
   "id": "39b79067-edb8-4c9b-9918-1925e53cd5f9",
   "metadata": {},
   "source": [
    "### Interpretation "
   ]
  },
  {
   "cell_type": "markdown",
   "id": "32dc7dd8-9b9e-4d44-961d-fe49c69a487b",
   "metadata": {},
   "source": [
    "Negative Sentiment:\n",
    "Many tweets express criticism or negative views ('Bad' sentiments), indicating significant dissatisfaction.\n",
    "\n",
    "Positive Sentiment:\n",
    "There are also tweets that show positive views ('Good' sentiments), indicating some appreciation or positive experiences.\n",
    "\n",
    "Neutral Sentiment:\n",
    "A significant number of tweets remain neutral, indicating they neither strongly praise nor criticize ChatGPT.\n",
    "\n",
    "Overall Picture:\n",
    "The dataset shows a mix of opinions. While negative sentiments are prominent, positive sentiments are also present, and many tweets are neutral, providing a balanced view overall."
   ]
  },
  {
   "cell_type": "markdown",
   "id": "11d6588a-1d33-4a60-b8a0-6e9367e2f03a",
   "metadata": {},
   "source": [
    "### Conclusion\n",
    "Studying sentiments from ChatGPT tweets helps organizations improve user experience and refine their marketing. By understanding whether sentiments are positive, negative, or neutral, companies can focus on enhancing what users like and addressing their concerns. Monitoring these trends helps manage public perception and respond promptly to issues. This data also guides customer service efforts to prioritize and resolve user feedback effectively, boosting overall satisfaction with ChatGPT."
   ]
  }
 ],
 "metadata": {
  "kernelspec": {
   "display_name": "Python 3 (ipykernel)",
   "language": "python",
   "name": "python3"
  },
  "language_info": {
   "codemirror_mode": {
    "name": "ipython",
    "version": 3
   },
   "file_extension": ".py",
   "mimetype": "text/x-python",
   "name": "python",
   "nbconvert_exporter": "python",
   "pygments_lexer": "ipython3",
   "version": "3.11.6"
  }
 },
 "nbformat": 4,
 "nbformat_minor": 5
}
